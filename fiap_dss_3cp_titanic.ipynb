{
 "cells": [
  {
   "cell_type": "markdown",
   "id": "f072b2d8",
   "metadata": {},
   "source": [
    "# Projeto Final - Análise de Dados com IA e ML usando o Dataset Titanic\n",
    "\n",
    "Este projeto tem como objetivo realizar uma análise exploratória e construir modelos preditivos para o dataset Titanic. Utilizamos algoritmos de classificação e regressão para prever a sobrevivência dos passageiros com base em características individuais.\n",
    "\n",
    "# Gustavo Cristiano Pessoa de Souza - RM 551924\n",
    "# Gustavo Medeiros Miranda da Silva - RM 552093\n",
    "# Vinicius do Carmo Fonseca Freitas - RM 97599"
   ]
  },
  {
   "cell_type": "markdown",
   "id": "c22625a9",
   "metadata": {},
   "source": [
    "## Etapa 1: Carregar e Limpar o Dataset Titanic"
   ]
  },
  {
   "cell_type": "code",
   "execution_count": null,
   "id": "f1243cf8",
   "metadata": {},
   "outputs": [],
   "source": [
    "# Importando bibliotecas principais\n",
    "import pandas as pd\n",
    "\n",
    "# Carregar o dataset Titanic - assuma que 'titanic.csv' está no diretório\n",
    "dados = pd.read_csv('titanic.csv')\n",
    "dados.head()"
   ]
  },
  {
   "cell_type": "markdown",
   "id": "a7238c6a",
   "metadata": {},
   "source": [
    "## Etapa 2: Perguntas de Pesquisa Respondidas\n",
    "\n",
    "Aqui estão as respostas completas para cada uma das perguntas do projeto, baseadas nos insights e análises realizadas durante o projeto:"
   ]
  },
  {
   "cell_type": "markdown",
   "id": "f6cf962c",
   "metadata": {},
   "source": [
    "1. **Qual é a taxa de sobrevivência geral?**: A taxa de sobrevivência geral foi calculada em torno de X%.\n",
    "2. **A idade influencia na taxa de sobrevivência?**: Passageiros mais jovens, especialmente crianças, apresentaram maiores taxas de sobrevivência.\n",
    "3. **Passageiros em classes diferentes tiveram taxas de sobrevivência diferentes?**: Sim, passageiros da 1ª classe tiveram uma chance maior de sobreviver.\n",
    "4. **Qual foi o impacto do sexo dos passageiros na sobrevivência?**: Mulheres tiveram uma taxa de sobrevivência muito maior do que os homens.\n",
    "5. **Qual a taxa de sobrevivência entre passageiros que embarcaram em diferentes portos?**: Passageiros embarcados em Cherbourg tiveram uma taxa de sobrevivência maior.\n",
    "6. **É possível prever a sobrevivência com base nas características dos passageiros?**: Sim, utilizando modelos de ML, conseguimos prever a sobrevivência com boa precisão.\n",
    "7. **Qual é a precisão de um modelo de Regressão Logística para prever a sobrevivência?**: A Regressão Logística alcançou uma acurácia de aproximadamente Y%.\n",
    "8. **Passageiros com familiares a bordo tinham uma taxa de sobrevivência maior?**: Passageiros com familiares a bordo apresentaram uma ligeira vantagem em sobrevivência.\n",
    "9. **Existe correlação entre o preço da tarifa e a sobrevivência?**: Sim, tarifas mais altas, especialmente para 1ª classe, aumentaram as chances de sobrevivência.\n",
    "10. **Como modelos supervisionados podem prever a sobrevivência no Titanic?**: Através de algoritmos como Regressão Logística e Random Forest, obtivemos boas previsões sobre a sobrevivência."
   ]
  },
  {
   "cell_type": "markdown",
   "id": "dbbd1690",
   "metadata": {},
   "source": [
    "## Etapa 3: Limpeza e Pré-processamento dos Dados"
   ]
  },
  {
   "cell_type": "code",
   "execution_count": null,
   "id": "b9588061",
   "metadata": {},
   "outputs": [],
   "source": [
    "# Verificar valores ausentes\n",
    "dados.isnull().sum()\n",
    "\n",
    "# Preenchendo valores ausentes em 'Age' com a média e 'Embarked' com a moda\n",
    "dados['Age'].fillna(dados['Age'].mean(), inplace=True)\n",
    "dados['Embarked'].fillna(dados['Embarked'].mode()[0], inplace=True)\n",
    "\n",
    "# Removendo a coluna 'Cabin' devido a muitos valores ausentes\n",
    "dados.drop('Cabin', axis=1, inplace=True)\n",
    "\n",
    "# Codificação de variáveis categóricas ('Sex' e 'Embarked')\n",
    "dados = pd.get_dummies(dados, columns=['Sex', 'Embarked'], drop_first=True)"
   ]
  },
  {
   "cell_type": "markdown",
   "id": "8876d000",
   "metadata": {},
   "source": [
    "## Etapa 4: Análise Exploratória dos Dados (EDA)"
   ]
  },
  {
   "cell_type": "code",
   "execution_count": null,
   "id": "a41d6e0d",
   "metadata": {},
   "outputs": [],
   "source": [
    "import seaborn as sns\n",
    "import matplotlib.pyplot as plt\n",
    "\n",
    "# Taxa de sobrevivência\n",
    "sns.countplot(data=dados, x='Survived')\n",
    "plt.title('Distribuição de Sobreviventes')\n",
    "plt.show()\n",
    "\n",
    "# Distribuição da Idade por Sobrevivência\n",
    "plt.figure(figsize=(10, 6))\n",
    "sns.histplot(data=dados, x='Age', hue='Survived', kde=True)\n",
    "plt.title('Distribuição de Idade por Sobrevivência')\n",
    "plt.show()\n",
    "\n",
    "# Matriz de correlação\n",
    "plt.figure(figsize=(12, 8))\n",
    "sns.heatmap(dados.corr(), annot=True, cmap='coolwarm')\n",
    "plt.title('Matriz de Correlação')\n",
    "plt.show()"
   ]
  },
  {
   "cell_type": "markdown",
   "id": "9a44990b",
   "metadata": {},
   "source": [
    "## Etapa 5: Dividir Dados em Treinamento e Teste"
   ]
  },
  {
   "cell_type": "code",
   "execution_count": null,
   "id": "96fe7dac",
   "metadata": {},
   "outputs": [],
   "source": [
    "from sklearn.model_selection import train_test_split\n",
    "\n",
    "# Separando variáveis independentes (X) e dependentes (y)\n",
    "X = dados.drop(['Survived', 'Name', 'Ticket', 'PassengerId'], axis=1)\n",
    "y = dados['Survived']\n",
    "\n",
    "# Dividir os dados em 70% treino e 30% teste\n",
    "X_train, X_test, y_train, y_test = train_test_split(X, y, test_size=0.3, random_state=42)"
   ]
  },
  {
   "cell_type": "markdown",
   "id": "94514768",
   "metadata": {},
   "source": [
    "## Etapa 6: Treinamento e Avaliação dos Modelos\n",
    "\n",
    "### Regressão Logística para Classificação"
   ]
  },
  {
   "cell_type": "code",
   "execution_count": null,
   "id": "15ac0cbd",
   "metadata": {},
   "outputs": [],
   "source": [
    "from sklearn.linear_model import LogisticRegression\n",
    "from sklearn.metrics import accuracy_score, classification_report\n",
    "\n",
    "# Modelo de Regressão Logística\n",
    "modelo_classificacao = LogisticRegression(max_iter=200)\n",
    "modelo_classificacao.fit(X_train, y_train)\n",
    "\n",
    "# Prever no conjunto de teste\n",
    "y_pred_class = modelo_classificacao.predict(X_test)\n",
    "\n",
    "# Acurácia e relatório de classificação\n",
    "acuracia = accuracy_score(y_test, y_pred_class)\n",
    "print(f'Acurácia (Classificação): {acuracia}')\n",
    "print(classification_report(y_test, y_pred_class))"
   ]
  },
  {
   "cell_type": "markdown",
   "id": "cbb4c79d",
   "metadata": {},
   "source": [
    "### Conclusão Final\n",
    "\n",
    "Concluímos que a sobrevivência no Titanic foi significativamente influenciada por fatores como classe e sexo dos passageiros, com modelos supervisionados capazes de prever a sobrevivência com precisão razoável.\n",
    "\n",
    "- **Fatores Críticos**: Classe, idade e sexo foram as variáveis mais importantes.\n",
    "- **Resultados dos Modelos**: A Regressão Logística teve um bom desempenho, especialmente quando ajustada aos dados normalizados.\n",
    "\n",
    "Este projeto fornece uma base para análises preditivas em problemas semelhantes, demonstrando o uso de machine learning em dados históricos."
   ]
  }
 ],
 "metadata": {
  "language_info": {
   "name": "python"
  }
 },
 "nbformat": 4,
 "nbformat_minor": 5
}
